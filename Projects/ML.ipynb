{
    "metadata": {
        "kernelspec": {
            "name": "python3",
            "display_name": "Python 3",
            "language": "python"
        },
        "language_info": {
            "name": "python",
            "version": "3.8.10",
            "mimetype": "text/x-python",
            "codemirror_mode": {
                "name": "ipython",
                "version": 3
            },
            "pygments_lexer": "ipython3",
            "nbconvert_exporter": "python",
            "file_extension": ".py"
        }
    },
    "nbformat_minor": 2,
    "nbformat": 4,
    "cells": [
        {
            "cell_type": "code",
            "source": [
                "# Import Core.\r\n",
                "%run \"../../Core/main.py\""
            ],
            "metadata": {
                "azdata_cell_guid": "f5b3773e-d6ad-48d9-bce4-5ab88282222c",
                "language": "python",
                "tags": []
            },
            "outputs": [],
            "execution_count": null
        },
        {
            "cell_type": "code",
            "source": [
                "df = pd.read_csv(\r\n",
                "    IMPORT_PATH + \"orders.csv\", \r\n",
                "    parse_dates=[\"CreatedAt\"]\r\n",
                ")"
            ],
            "metadata": {
                "language": "python",
                "azdata_cell_guid": "76117b7d-a115-4895-ab64-01e6054cdb25",
                "tags": []
            },
            "outputs": [],
            "execution_count": null
        },
        {
            "cell_type": "code",
            "source": [
                "print(df.shape)\r\n",
                "print(df.dtypes)\r\n",
                "df.head(2)"
            ],
            "metadata": {
                "language": "python",
                "azdata_cell_guid": "49f57749-ea3c-4e11-8e77-05c1cb38c83d",
                "tags": []
            },
            "outputs": [],
            "execution_count": null
        },
        {
            "cell_type": "code",
            "source": [
                "df = bookings.groupby([\"BookingID\", \"Route\"]).agg(\r\n",
                "    products=(\"ClientID\", \"nunique\"),\r\n",
                "    date_bought=(\"CreatedAt\", \"max\"),\r\n",
                "    cost=(\"TotalCost\", \"max\"),\r\n",
                "    currency=(\"CurrencyCode\", \"max\"),\r\n",
                "    departure=(\"DepartureTime\", \"max\"),\r\n",
                "    arrival=(\"DeliveryTime\", \"max\")\r\n",
                ").reset_index()\r\n",
                "\r\n",
                "df.head(2)"
            ],
            "metadata": {
                "language": "python",
                "azdata_cell_guid": "3aacaa35-2f55-4fd1-bc11-1eaeb715d932"
            },
            "outputs": [],
            "execution_count": null
        },
        {
            "cell_type": "code",
            "source": [
                "fig, axes = plt.subplots(2, 2, figsize=(12, 10))\r\n",
                "\r\n",
                "# Histogram\r\n",
                "axes[0, 0].hist(df['cost'], bins=10, edgecolor='black')\r\n",
                "axes[0, 0].set_title('Histogram of cost')\r\n",
                "axes[0, 0].set_xlabel('cost')\r\n",
                "axes[0, 0].set_ylabel('Frequency')\r\n",
                "\r\n",
                "axes[0, 1].boxplot(df['cost'])\r\n",
                "axes[0, 1].set_title('Box Plot of cost')\r\n",
                "axes[0, 1].set_ylabel('cost')\r\n",
                "\r\n",
                "sns.kdeplot(df['cost'], fill=True, ax=axes[1, 0])\r\n",
                "axes[1, 0].set_title('Density Plot of cost')\r\n",
                "axes[1, 0].set_xlabel('cost')\r\n",
                "axes[1, 0].set_ylabel('Density')\r\n",
                "\r\n",
                "fig.delaxes(axes[1, 1])\r\n",
                "\r\n",
                "plt.tight_layout()\r\n",
                "plt.show()"
            ],
            "metadata": {
                "language": "python",
                "azdata_cell_guid": "bda3836a-a452-47c8-80fe-aa5f8c3e5f1f"
            },
            "outputs": [],
            "execution_count": null
        },
        {
            "cell_type": "code",
            "source": [
                "def cohens_d(mean1, mean2, std1, std2, n1, n2):\r\n",
                "    \"\"\"Calculate Cohen's d effect size.\"\"\"\r\n",
                "    pooled_std = np.sqrt(((n1 - 1) * std1**2 + (n2 - 1) * std2**2) / (n1 + n2 - 2))\r\n",
                "    return (mean1 - mean2) / pooled_std\r\n",
                "\r\n",
                "def cohens_results(df):\r\n",
                "    \"\"\"Calculate Cohen's d for each pair of routes.\"\"\"\r\n",
                "    cohen_d_results = []\r\n",
                "\r\n",
                "    for (idx1, row1), (idx2, row2) in combinations(df.iterrows(), 2):\r\n",
                "        route1, route2 = row1['route'], row2['route']\r\n",
                "        mean1, mean2 = row1['mean'], row2['mean']\r\n",
                "        std1, std2 = row1['std'], row2['std']\r\n",
                "        n1, n2 = row1['count'], row2['count']\r\n",
                "        \r\n",
                "        if n1 > 30 and n2 > 30:\r\n",
                "            d = cohens_d(mean1, mean2, std1, std2, n1, n2)\r\n",
                "            sufficient = \"sufficient\"\r\n",
                "        else:\r\n",
                "            d = np.nan\r\n",
                "            sufficient = \"insufficient\"\r\n",
                "\r\n",
                "        cohen_d_results.append({\r\n",
                "            'route1': route1,\r\n",
                "            'route2': route2,\r\n",
                "            'cohens_d': d,\r\n",
                "            'sample_size_status': sufficient\r\n",
                "        })\r\n",
                "\r\n",
                "    return pd.DataFrame(cohen_d_results)\r\n",
                "\r\n",
                "def plot_cohens(df):\r\n",
                "    \"\"\"Plot Cohen's d values for route pairs.\"\"\"\r\n",
                "    sns.set(style=\"whitegrid\")\r\n",
                "    plt.figure(figsize=(12, 8))\r\n",
                "\r\n",
                "    if 'cohens_d' not in df.columns:\r\n",
                "        raise KeyError(\"The DataFrame must contain a 'cohens_d' column.\")\r\n",
                "\r\n",
                "    sns.barplot(data=df, x='cohens_d', y='route1', orient='h')\r\n",
                "\r\n",
                "    plt.title(\"Cohen's d Values for Route Pairs\", fontsize=16)\r\n",
                "    plt.xlabel(\"Cohen's d\", fontsize=14)\r\n",
                "    plt.ylabel(\"Route Pairs\", fontsize=14)\r\n",
                "\r\n",
                "    plt.axvline(0.2, linestyle='--', color='orange', label='Small Effect')\r\n",
                "    plt.axvline(0.5, linestyle='--', color='blue', label='Medium Effect')\r\n",
                "    plt.axvline(0.8, linestyle='--', color='red', label='Large Effect')\r\n",
                "\r\n",
                "    plt.legend()\r\n",
                "    plt.tight_layout()\r\n",
                "    plt.show()"
            ],
            "metadata": {
                "azdata_cell_guid": "b7dad69f-438b-4f77-83b5-db3cc297c52d",
                "language": "python"
            },
            "outputs": [],
            "execution_count": null
        },
        {
            "cell_type": "code",
            "source": [
                "cohen_d_results_df = cohens_results(df)\r\n",
                "plot_cohens(cohen_d_results_df)"
            ],
            "metadata": {
                "azdata_cell_guid": "2f1b41f3-9c16-4b2b-b4b2-aa89895700ab",
                "language": "python"
            },
            "outputs": [],
            "execution_count": null
        },
        {
            "cell_type": "code",
            "source": [
                "cohen_d_results_df"
            ],
            "metadata": {
                "azdata_cell_guid": "fc17b66e-c5d8-4cf7-958b-3c22ffe37958",
                "language": "python"
            },
            "outputs": [],
            "execution_count": null
        },
        {
            "cell_type": "code",
            "source": [
                "def levenes_test(df):\r\n",
                "    \"\"\"Generate data samples based on mean and standard deviation.\"\"\"\r\n",
                "    for (idx1, row1), (idx2, row2) in combinations(df.iterrows(), 2):\r\n",
                "        data1 = np.random.normal(row1['mean'], row1['std'], size=int(row1['count']))\r\n",
                "        data2 = np.random.normal(row2['mean'], row2['std'], size=int(row2['count']))    \r\n",
                "        stat1, p1 = shapiro(data1)\r\n",
                "        stat2, p2 = shapiro(data2)\r\n",
                "\r\n",
                "    stat, p = levene(data1, data2)\r\n",
                "    print(\"Levene's test p-value:\", p)"
            ],
            "metadata": {
                "language": "python",
                "azdata_cell_guid": "06cce8cb-381d-409c-9d77-314c82c1619f"
            },
            "outputs": [],
            "execution_count": null
        },
        {
            "cell_type": "code",
            "source": [
                "levenes_test(df)"
            ],
            "metadata": {
                "language": "python",
                "azdata_cell_guid": "f97c4212-dad1-4b3c-9e8f-0c7f53bce7e8"
            },
            "outputs": [],
            "execution_count": null
        },
        {
            "cell_type": "code",
            "source": [
                "def t_test(df):\r\n",
                "    \"\"\"Perform Welch's t-test between pairs of routes to compare their means.\"\"\"\r\n",
                "    df['count'] = df['count'].astype(int)\r\n",
                "\r\n",
                "    t_test_results = []\r\n",
                "\r\n",
                "    for (idx1, row1), (idx2, row2) in combinations(df.iterrows(), 2):\r\n",
                "        route1, route2 = row1['route'], row2['route']\r\n",
                "        mean1, mean2 = row1['mean'], row2['mean']\r\n",
                "        std1, std2 = row1['std'], row2['std']\r\n",
                "        n1, n2 = row1['count'], row2['count']\r\n",
                "\r\n",
                "        data1 = np.random.normal(mean1, std1, size=n1)\r\n",
                "        data2 = np.random.normal(mean2, std2, size=n2)\r\n",
                "\r\n",
                "        t_stat, p_value = ttest_ind(data1, data2, equal_var=False)\r\n",
                "\r\n",
                "        t_test_results.append({\r\n",
                "            'route1': route1,\r\n",
                "            'route2': route2,\r\n",
                "            't_stat': t_stat,\r\n",
                "            'p_value': p_value\r\n",
                "        })\r\n",
                "\r\n",
                "    df_t_test = pd.DataFrame(t_test_results)\r\n",
                "\r\n",
                "    significant_results = df_t_test[df_t_test['p_value'] < 0.05]\r\n",
                "    non_significant_results = df_t_test[df_t_test['p_value'] > 0.05]\r\n",
                "    print(\"T-Test Results:\")\r\n",
                "    print(df_t_test)\r\n",
                "    print(\"\\nSignificant Results (p < 0.05):\")\r\n",
                "    print(non_significant_results)"
            ],
            "metadata": {
                "language": "python",
                "azdata_cell_guid": "85f27895-4618-4f20-a28c-86010a502a48"
            },
            "outputs": [],
            "execution_count": null
        },
        {
            "cell_type": "code",
            "source": [
                "t_test(df)"
            ],
            "metadata": {
                "language": "python",
                "azdata_cell_guid": "259338d6-0dc4-4e48-b0ab-621b58ace763"
            },
            "outputs": [],
            "execution_count": null
        },
        {
            "cell_type": "code",
            "source": [
                "def anova_test(df):\r\n",
                "    \"\"\"Perform ANOVA to compare means across multiple routes and calculate the correlation between routes and cost.\"\"\"\r\n",
                "    from scipy import stats\r\n",
                "\r\n",
                "    anova_results = stats.f_oneway(\r\n",
                "        *[df[df['route'] == route]['cost'] for route in df['route'].unique()]\r\n",
                "    )\r\n",
                "    print(\"ANOVA test result:\")\r\n",
                "    print(f\"F-statistic: {anova_results.statistic}, p-value: {anova_results.pvalue}\")\r\n",
                "\r\n",
                "    df['route_code'] = pd.factorize(df['route'])[0]  # Encode routes as numerical values\r\n",
                "    correlation = df[['route_code', 'cost']].corr().iloc[0, 1]  # Correlation between route_code and cost\r\n",
                "    print(f\"Correlation between route and cost: {correlation}\")"
            ],
            "metadata": {
                "azdata_cell_guid": "0d204d1a-bd5d-4157-9fdb-f6636853528f",
                "language": "python"
            },
            "outputs": [],
            "execution_count": null
        },
        {
            "cell_type": "code",
            "source": [
                "anova_test(df)"
            ],
            "metadata": {
                "language": "python",
                "azdata_cell_guid": "282dab4e-34c1-4938-8005-572795bff04d"
            },
            "outputs": [],
            "execution_count": null
        },
        {
            "cell_type": "code",
            "source": [
                "def get_season(month):\r\n",
                "    \"\"\"Return the season for a given month.\"\"\"\r\n",
                "    if month in [12, 1, 2]:\r\n",
                "        return 'Winter'\r\n",
                "    elif month in [3, 4, 5]:\r\n",
                "        return 'Spring'\r\n",
                "    elif month in [6, 7, 8]:\r\n",
                "        return 'Summer'\r\n",
                "    return 'Fall'\r\n",
                "\r\n",
                "\r\n",
                "def seasonality_anova_correlation(df, date_):\r\n",
                "    \"\"\"Perform ANOVA and correlation analysis based on seasonality and product.\"\"\"\r\n",
                "    from scipy import stats\r\n",
                "\r\n",
                "    df['month'] = pd.to_datetime(df[date_]).dt.month\r\n",
                "    df['season'] = df['month'].apply(get_season)\r\n",
                "    df['departure_date'] = df['delivery'].dt.date\r\n",
                "    df['delivery_hour'] = df['delivery'].dt.hour\r\n",
                "    df['delivery_day'] = df['delivery'].dt.day\r\n",
                "    df['booking_month'] = df['date_bought'].dt.month\r\n",
                "    df['booking_day'] = df['date_bought'].dt.day\r\n",
                "    df['is_weekend_delivery'] = df['delivery'].dt.weekday >= 5\r\n",
                "    df['is_weekend_booking'] = df['date_bought'].dt.weekday >= 5\r\n",
                "\r\n",
                "    anova_results = []\r\n",
                "    for product in df['product'].unique():\r\n",
                "        group_data = df[df['product'] == product]['cost'].dropna()\r\n",
                "        if len(group_data) > 1:  # Ensure there's more than one data point\r\n",
                "            anova_results.append(group_data)\r\n",
                "        else:\r\n",
                "            print(f\"{product}: Not enough data for ANOVA.\")\r\n",
                "\r\n",
                "    if len(anova_results) > 1:\r\n",
                "        anova_results = stats.f_oneway(*anova_results)\r\n",
                "        print(\"\\nANOVA test results for product:\")\r\n",
                "        print(f\"F-statistic: {anova_results.statistic:.4f}, p-value: {anova_results.pvalue:.4f}\")\r\n",
                "    else:\r\n",
                "        print(\"\\nNot enough product groups for ANOVA.\")\r\n",
                "\r\n",
                "    seasonal_groups = [\r\n",
                "        df[df['season'] == season]['cost'].dropna()\r\n",
                "        for season in df['season'].unique() if len(df[df['season'] == season]['cost'].dropna()) > 1\r\n",
                "    ]\r\n",
                "\r\n",
                "    if len(seasonal_groups) > 1:\r\n",
                "        anova_results_season = stats.f_oneway(*seasonal_groups)\r\n",
                "        print(\"\\nANOVA test result for seasonality:\")\r\n",
                "        print(f\"F-statistic: {anova_results_season.statistic:.4f}, p-value: {anova_results_season.pvalue:.4f}\")\r\n",
                "    else:\r\n",
                "        print(\"\\nNot enough seasonal groups for ANOVA.\")\r\n",
                "\r\n",
                "    df['product_code'] = pd.factorize(df['product'])[0]\r\n",
                "    df['season_code'] = pd.factorize(df['season'])[0]\r\n",
                "\r\n",
                "    correlation = df[['product_code', 'cost']].corr().iloc[0, 1]\r\n",
                "    print(f\"\\nCorrelation between product and cost: {correlation:.4f}\")\r\n",
                "\r\n",
                "    correlation_season = df[['season_code', 'cost']].corr().iloc[0, 1]\r\n",
                "    print(f\"Correlation between season and cost: {correlation_season:.4f}\")"
            ],
            "metadata": {
                "language": "python",
                "azdata_cell_guid": "30e803ce-e1f9-40b4-ab5b-f2f38aec5595"
            },
            "outputs": [],
            "execution_count": null
        },
        {
            "cell_type": "code",
            "source": [
                "seasonality_anova_correlation(df, 'delivery')"
            ],
            "metadata": {
                "azdata_cell_guid": "9953f16f-03d9-4b42-af0a-13df36473031",
                "language": "python"
            },
            "outputs": [],
            "execution_count": null
        },
        {
            "cell_type": "code",
            "source": [
                "def compute_confidence_interval(data):\r\n",
                "    from scipy import stats\r\n",
                "    mean = np.mean(data)\r\n",
                "    sem = stats.sem(data)  # Standard error of the mean\r\n",
                "    ci = sem * stats.t.ppf((1 + 0.95) / 2., len(data) - 1)  # 95% CI\r\n",
                "    return mean, (mean - ci, mean + ci)"
            ],
            "metadata": {
                "azdata_cell_guid": "c758a6ed-9d37-4c15-b628-a2e4266121ae",
                "language": "python"
            },
            "outputs": [],
            "execution_count": null
        },
        {
            "cell_type": "code",
            "source": [
                "def plot_seasonality(ci_df):\r\n",
                "    plt.figure(figsize=(12, 8))\r\n",
                "    sns.set(style=\"whitegrid\")\r\n",
                "\r\n",
                "    sns.pointplot(\r\n",
                "        x='season', \r\n",
                "        y='Mean', \r\n",
                "        hue='product', \r\n",
                "        data=ci_df, \r\n",
                "        dodge=True, \r\n",
                "        join=False, \r\n",
                "        ci=None,\r\n",
                "        markers=\"o\", \r\n",
                "        capsize=0.1\r\n",
                "    )\r\n",
                "\r\n",
                "    for i in range(ci_df.shape[0]):\r\n",
                "        row = ci_df.iloc[i]\r\n",
                "        plt.errorbar(\r\n",
                "            x=row['season'], \r\n",
                "            y=row['Mean'], \r\n",
                "            yerr=[[row['Mean'] - row['Lower_CI']], [row['Upper_CI'] - row['Mean']]], \r\n",
                "            fmt='none', \r\n",
                "            capsize=5, \r\n",
                "            color='black'\r\n",
                "        )\r\n",
                "\r\n",
                "    plt.title('Mean cost by Product and Season with 95% Confidence Intervals', fontsize=16)\r\n",
                "    plt.xlabel('Season', fontsize=14)\r\n",
                "    plt.ylabel('Mean cost (per order)', fontsize=14)\r\n",
                "    plt.legend(title='Product', title_fontsize='13', fontsize='11')\r\n",
                "\r\n",
                "    plt.tight_layout()\r\n",
                "    plt.title(\"Correlation Matrix for Training Data\", color=\"white\")\r\n",
                "\r\n",
                "    plt.show()"
            ],
            "metadata": {
                "language": "python",
                "azdata_cell_guid": "82101424-364e-475d-b0df-f19dfa34e5bc"
            },
            "outputs": [],
            "execution_count": null
        },
        {
            "cell_type": "code",
            "source": [
                "grouped = df.groupby(['product', 'season'])['cost']\r\n",
                "\r\n",
                "ci_results = grouped.apply(lambda x: compute_confidence_interval(x.dropna()))\r\n",
                "\r\n",
                "ci_df = pd.DataFrame(ci_results.tolist(), columns=['Mean', '95% CI'], index=ci_results.index)\r\n",
                "\r\n",
                "ci_df[['Lower_CI', 'Upper_CI']] = pd.DataFrame(ci_df['95% CI'].tolist(), index=ci_df.index)\r\n",
                "\r\n",
                "ci_df = ci_df.reset_index()\r\n",
                "\r\n",
                "plot_seasonality(ci_df)"
            ],
            "metadata": {
                "language": "python",
                "azdata_cell_guid": "dc1a4582-b0d0-4b6e-ba3d-1e8da8d153e0"
            },
            "outputs": [],
            "execution_count": null
        },
        {
            "cell_type": "code",
            "source": [
                "def plot_confidence_interval(df):\r\n",
                "    from scipy import stats\r\n",
                "    df_routes_summary = df.groupby(\"route\")[\"RPP\"].agg([\"mean\", \"count\", \"std\"])\r\n",
                "\r\n",
                "    df_routes_summary[\"SEM\"] = df_routes_summary[\"std\"] / np.sqrt(df_routes_summary[\"count\"])\r\n",
                "\r\n",
                "    confidence_level = 0.95\r\n",
                "    z_value = stats.norm.ppf((1 + confidence_level) / 2)\r\n",
                "\r\n",
                "    df_routes_summary[\"Lower_CI\"] = df_routes_summary[\"mean\"] - z_value * df_routes_summary[\"SEM\"]\r\n",
                "    df_routes_summary[\"Upper_CI\"] = df_routes_summary[\"mean\"] + z_value * df_routes_summary[\"SEM\"]\r\n",
                "\r\n",
                "    df_routes_summary = df_routes_summary.reset_index()\r\n",
                "\r\n",
                "    plt.figure(figsize=(12, 8))\r\n",
                "    sns.set(style=\"whitegrid\")\r\n",
                "\r\n",
                "    sns.pointplot(\r\n",
                "        x=\"route\", \r\n",
                "        y=\"mean\", \r\n",
                "        data=df_routes_summary, \r\n",
                "        dodge=True, \r\n",
                "        join=False, \r\n",
                "        ci=None,  # Don\"t calculate internal CIs; we already have them\r\n",
                "        markers=\"o\", \r\n",
                "        capsize=0.1\r\n",
                "    )\r\n",
                "\r\n",
                "    for i in range(df_routes_summary.shape[0]):\r\n",
                "        row = df_routes_summary.iloc[i]\r\n",
                "        plt.errorbar(\r\n",
                "            x=row[\"route\"], \r\n",
                "            y=row[\"mean\"], \r\n",
                "            yerr=[[row[\"mean\"] - row[\"Lower_CI\"]], [row[\"Upper_CI\"] - row[\"mean\"]]], \r\n",
                "            fmt=\"none\", \r\n",
                "            capsize=5, \r\n",
                "            color=\"black\"\r\n",
                "        )\r\n",
                "\r\n",
                "    plt.title(\"Mean RPP by Route with 95% Confidence Intervals\", fontsize=16)\r\n",
                "    plt.xlabel(\"Route\", fontsize=14, color=\"white\")\r\n",
                "    plt.ylabel(\"Mean RPP (Ticket Price per Passenger)\", fontsize=14, color=\"white\")\r\n",
                "\r\n",
                "    plt.xticks(rotation=90)\r\n",
                "\r\n",
                "    plt.tight_layout()\r\n",
                "    plt.show()"
            ],
            "metadata": {
                "azdata_cell_guid": "0742cf3f-b430-4554-8906-8b36af90f027",
                "language": "python"
            },
            "outputs": [],
            "execution_count": null
        },
        {
            "cell_type": "code",
            "source": [
                "plot_confidence_interval(df)"
            ],
            "metadata": {
                "language": "python",
                "azdata_cell_guid": "adfaec18-4a3a-42cd-8b4c-dab6cd4e1b9d"
            },
            "outputs": [],
            "execution_count": null
        },
        {
            "cell_type": "code",
            "source": [
                "def test_cost_effect(df, column):\r\n",
                "    \"\"\"Perform a t-test to check if the 'cost' is affected by a given column.\"\"\"\r\n",
                "    from scipy import stats\r\n",
                "\r\n",
                "    cost_true = df[df[column] == True]['cost']\r\n",
                "    cost_false = df[df[column] == False]['cost']\r\n",
                "\r\n",
                "    t_stat, p_value = stats.ttest_ind(cost_true, cost_false, equal_var=False)\r\n",
                "    \r\n",
                "    return t_stat, p_value\r\n",
                "\r\n",
                "t_stat_departure, p_value_departure = test_cost_effect(df, 'is_weekend_departure')\r\n",
                "print(f\"T-test for 'is_weekend_departure': t-statistic = {t_stat_departure}, p-value = {p_value_departure}\")\r\n",
                "\r\n",
                "t_stat_booking, p_value_booking = test_cost_effect(df, 'is_weekend_booking')\r\n",
                "print(f\"T-test for 'is_weekend_booking': t-statistic = {t_stat_booking}, p-value = {p_value_booking}\")"
            ],
            "metadata": {
                "language": "python",
                "azdata_cell_guid": "a82c9a39-d760-4704-bb63-731a11263990"
            },
            "outputs": [],
            "execution_count": null
        },
        {
            "cell_type": "code",
            "source": [
                "def non_parametric_test(df, column):\r\n",
                "    \"\"\"Perform a Mann-Whitney U test to check if 'cost' is affected by a given column. \"\"\"\r\n",
                "    from scipy.stats import mannwhitneyu\r\n",
                "\r\n",
                "    cost_true = df[df[column] == True]['cost']\r\n",
                "    cost_false = df[df[column] == False]['cost']\r\n",
                "\r\n",
                "    if len(cost_true) == 0 or len(cost_false) == 0:\r\n",
                "        print(f\"Error: One of the groups in '{column}' has no data.\")\r\n",
                "        return None, None\r\n",
                "\r\n",
                "    u_stat, p_value = mannwhitneyu(cost_true, cost_false, alternative='two-sided')\r\n",
                "    \r\n",
                "    return u_stat, p_value\r\n",
                "\r\n",
                "\r\n",
                "u_stat_departure, p_value_departure = non_parametric_test(df, 'is_weekend_departure')\r\n",
                "if u_stat_departure is not None:\r\n",
                "    print(f\"Mann-Whitney U test for 'is_weekend_departure': U-statistic = {u_stat_departure}, p-value = {p_value_departure}\")\r\n",
                "\r\n",
                "u_stat_booking, p_value_booking = non_parametric_test(df, 'is_weekend_booking')\r\n",
                "if u_stat_booking is not None:\r\n",
                "    print(f\"Mann-Whitney U test for 'is_weekend_booking': U-statistic = {u_stat_booking}, p-value = {p_value_booking}\")\r\n",
                ""
            ],
            "metadata": {
                "language": "python",
                "azdata_cell_guid": "bdfd1b2e-e5e6-4fab-9c26-91991352ca83"
            },
            "outputs": [],
            "execution_count": null
        },
        {
            "cell_type": "code",
            "source": [
                "def calculate_rank_biserial_correlation(U, n1, n2):\r\n",
                "    \"\"\"Calculate the rank-biserial correlation as an effect size.\"\"\"\r\n",
                "    return (2 * U) / (n1 * n2) - 1\r\n",
                "\r\n",
                "u_stat_delivery, p_value_delivery = non_parametric_test(df, 'is_weekend_delivery')\r\n",
                "if u_stat_delivery is not None:\r\n",
                "    print(f\"Mann-Whitney U test for 'is_weekend_delivery': U-statistic = {u_stat_delivery}, p-value = {p_value_delivery}\")\r\n",
                "\r\n",
                "    n1_delivery = len(df[df['is_weekend_delivery'] == True])\r\n",
                "    n2_delivery = len(df[df['is_weekend_delivery'] == False])\r\n",
                "    effect_size_delivery = calculate_rank_biserial_correlation(u_stat_delivery, n1_delivery, n2_delivery)\r\n",
                "    print(f\"Rank-biserial correlation for 'is_weekend_delivery': {effect_size_delivery}\")\r\n",
                "\r\n",
                "u_stat_booking, p_value_booking = non_parametric_test(df, 'is_weekend_booking')\r\n",
                "if u_stat_booking is not None:\r\n",
                "    print(f\"Mann-Whitney U test for 'is_weekend_booking': U-statistic = {u_stat_booking}, p-value = {p_value_booking}\")\r\n",
                "\r\n",
                "    n1_booking = len(df[df['is_weekend_booking'] == True])\r\n",
                "    n2_booking = len(df[df['is_weekend_booking'] == False])\r\n",
                "    effect_size_booking = calculate_rank_biserial_correlation(u_stat_booking, n1_booking, n2_booking)\r\n",
                "    print(f\"Rank-biserial correlation for 'is_weekend_booking': {effect_size_booking}\")\r\n",
                "\r\n",
                "plt.figure(figsize=(12, 6))\r\n",
                "sns.boxplot(x='is_weekend_delivery', y='cost', data=df)\r\n",
                "plt.title('cost by Weekend delivery')\r\n",
                "plt.xlabel('Is Weekend delivery')\r\n",
                "plt.ylabel('cost')\r\n",
                "plt.show()\r\n",
                "\r\n",
                "plt.figure(figsize=(12, 6))\r\n",
                "sns.boxplot(x='is_weekend_booking', y='cost', data=df)\r\n",
                "plt.title('cost by Weekend Booking')\r\n",
                "plt.xlabel('Is Weekend Booking')\r\n",
                "plt.ylabel('cost')\r\n",
                "plt.show()\r\n",
                ""
            ],
            "metadata": {
                "azdata_cell_guid": "e9d68ec5-1702-4c03-b04b-c7241be89f8b",
                "language": "python"
            },
            "outputs": [],
            "execution_count": null
        },
        {
            "cell_type": "code",
            "source": [
                "# ML model"
            ],
            "metadata": {
                "language": "python",
                "azdata_cell_guid": "950d4061-825d-4572-8596-cc0a360d7700"
            },
            "outputs": [],
            "execution_count": null
        },
        {
            "cell_type": "code",
            "source": [
                "X = df.drop(columns=[\"cost\"], axis=1)\r\n",
                "y = df[\"cost\"]"
            ],
            "metadata": {
                "language": "python",
                "azdata_cell_guid": "fe635d84-495b-4e81-8578-0ede6e1dd07f"
            },
            "outputs": [],
            "execution_count": null
        },
        {
            "cell_type": "code",
            "source": [
                "X_train.var()"
            ],
            "metadata": {
                "language": "python",
                "azdata_cell_guid": "0f32eca9-e3be-43ba-aca0-b87c4c6883a6"
            },
            "outputs": [],
            "execution_count": null
        },
        {
            "cell_type": "code",
            "source": [
                "X_train, X_temp, y_train, y_temp = train_test_split(X, y, test_size=0.30, random_state=42)\r\n",
                "\r\n",
                "X_val, X_test, y_val, y_test = train_test_split(X_temp, y_temp, test_size=0.50, random_state=42)\r\n",
                "\r\n",
                "print(f\"Training set size: {X_train.shape[0]}\")\r\n",
                "print(f\"Validation set size: {X_val.shape[0]}\")\r\n",
                "print(f\"Test set size: {X_test.shape[0]}\")"
            ],
            "metadata": {
                "language": "python",
                "azdata_cell_guid": "9045584e-c918-422e-9041-2c9a5233a633"
            },
            "outputs": [],
            "execution_count": null
        },
        {
            "cell_type": "code",
            "source": [
                "def fill_with_distribution(series, distribution):\r\n",
                "    \"\"\"Fills missing values in the Series by sampling from existing values based on their distribution.\"\"\"\r\n",
                "    n_missing = series.isnull().sum()\r\n",
                "    if n_missing == 0:\r\n",
                "        return series\r\n",
                "\r\n",
                "    valid_values = distribution.index.intersection(series.dropna().unique())\r\n",
                "    valid_distribution = distribution[valid_values]\r\n",
                "    \r\n",
                "    if valid_distribution.sum() == 0:\r\n",
                "        return series  # Return original series if there's nothing to sample from\r\n",
                "\r\n",
                "    sampled_values = np.random.choice(valid_values, size=n_missing, p=valid_distribution / valid_distribution.sum())\r\n",
                "    series_filled = series.copy()\r\n",
                "    series_filled[series.isnull()] = sampled_values\r\n",
                "    return series_filled"
            ],
            "metadata": {
                "language": "python",
                "azdata_cell_guid": "ae5e8f26-c0ac-4f4c-ae5f-860caea48b58"
            },
            "outputs": [],
            "execution_count": null
        },
        {
            "cell_type": "code",
            "source": [
                "def assign_time_of_day(df):\r\n",
                "    \"\"\"Calculates the daypart of the flight.\"\"\"\r\n",
                "    df[\"hour\"] = df[\"departure\"].dt.hour\r\n",
                "    bins = [0, 6, 18, 24]\r\n",
                "    labels = [\"Night\", \"Morning\", \"Night\"]\r\n",
                "    df[\"time_of_day\"] = pd.cut(df[\"hour\"], bins=bins, labels=labels, right=False, include_lowest=True, ordered=False)\r\n",
                "    df = df.drop(\"hour\", axis=1)\r\n",
                "    return df"
            ],
            "metadata": {
                "language": "python",
                "azdata_cell_guid": "417ac692-aa33-432b-a73b-f11f872f85a8"
            },
            "outputs": [],
            "execution_count": null
        },
        {
            "cell_type": "code",
            "source": [
                "def create_time_features(df):\r\n",
                "    \"\"\"Adds time-related features derived from the \"departure\" date for USA, Norway, and UK.\"\"\"\r\n",
                "    holidays_data, vacation_periods = get_holidays_and_vacation_periods()\r\n",
                "    \r\n",
                "    holiday_dates = {country: [] for country in holidays_data.keys()}\r\n",
                "    for country, years in holidays_data.items():\r\n",
                "        for year in years.values():\r\n",
                "            holiday_dates[country].extend(year.values())\r\n",
                "\r\n",
                "    df[\"departure\"] = pd.to_datetime(df[\"departure\"])\r\n",
                "    df[\"quarter\"] = df[\"departure\"].dt.quarter\r\n",
                "    df[\"day_of_week\"] = df[\"departure\"].dt.dayofweek\r\n",
                "    df[\"month\"] = df[\"departure\"].dt.month\r\n",
                "    df[\"is_holiday_USA\"] = df[\"departure\"].isin(holiday_dates[\"USA\"])\r\n",
                "    df[\"is_holiday_Norway\"] = df[\"departure\"].isin(holiday_dates[\"Norway\"])\r\n",
                "    df[\"is_holiday_UK\"] = df[\"departure\"].isin(holiday_dates[\"UK\"])\r\n",
                "    df[\"is_vacation_USA\"] = df[\"departure\"].apply(lambda x: any(start <= x <= end for start, end in vacation_periods.get(\"USA\", [])))\r\n",
                "    df[\"is_vacation_Norway\"] = df[\"departure\"].apply(lambda x: any(start <= x <= end for start, end in vacation_periods.get(\"Norway\", [])))\r\n",
                "    df[\"is_vacation_UK\"] = df[\"departure\"].apply(lambda x: any(start <= x <= end for start, end in vacation_periods.get(\"UK\", [])))\r\n",
                "    df[\"is_weekend\"] = df[\"day_of_week\"].isin([5, 6])\r\n",
                "    df = assign_time_of_day(df)\r\n",
                "    df = assign_same_day_flight(df)\r\n",
                "    return df"
            ],
            "metadata": {
                "language": "python",
                "azdata_cell_guid": "fbb50ce4-e5dc-4b5c-a6c8-f951e9570496"
            },
            "outputs": [],
            "execution_count": null
        },
        {
            "cell_type": "markdown",
            "source": [
                "# Handle missing values"
            ],
            "metadata": {
                "language": "python",
                "azdata_cell_guid": "16f93d65-f4cf-4f09-9bdd-462444fbf114"
            },
            "attachments": {}
        },
        {
            "cell_type": "code",
            "source": [
                "missing_values_train = df.isnull().sum()\r\n",
                "print(missing_values_train[missing_values_train > 0])"
            ],
            "metadata": {
                "language": "python",
                "azdata_cell_guid": "f79b7fd9-acbb-4dc3-aa7e-6797f6944a93"
            },
            "outputs": [],
            "execution_count": null
        },
        {
            "cell_type": "markdown",
            "source": [
                "# Transformation"
            ],
            "metadata": {
                "language": "python",
                "azdata_cell_guid": "0c7cb32f-0ac0-4966-888c-76cb6b9bbf50"
            },
            "attachments": {}
        },
        {
            "cell_type": "code",
            "source": [
                "X_train = create_time_features(X_train)\r\n",
                "X_val = create_time_features(X_val)\r\n",
                "X_test = create_time_features(X_test)"
            ],
            "metadata": {
                "language": "python",
                "azdata_cell_guid": "10b6ba4c-c4e8-4b1b-8bf8-ac79f8a27fa8"
            },
            "outputs": [],
            "execution_count": null
        },
        {
            "cell_type": "code",
            "source": [
                "encoder = OneHotEncoder(sparse=False)\r\n",
                "\r\n",
                "X_train_encoded = encoder.fit_transform(X_train[[\"some_column\"]])\r\n",
                "X_train_encoded = pd.DataFrame(X_train_encoded, columns=encoder.get_feature_names_out())\r\n",
                "X_val_encoded = encoder.transform(X_val[[\"some_column\"]])\r\n",
                "X_val_encoded = pd.DataFrame(X_val_encoded, columns=encoder.get_feature_names_out())\r\n",
                "X_test_encoded = encoder.transform(X_test[[\"some_column\"]])\r\n",
                "X_test_encoded = pd.DataFrame(X_test_encoded, columns=encoder.get_feature_names_out())\r\n",
                "\r\n",
                "X_train = X_train.join(X_train_encoded).drop(columns=[\"some_column\"])\r\n",
                "X_val = X_val.join(X_val_encoded).drop(columns=[\"some_column\"])\r\n",
                "X_test = X_test.join(X_test_encoded).drop(columns=[\"some_column\"])"
            ],
            "metadata": {
                "language": "python",
                "azdata_cell_guid": "5209ef6c-a360-476f-8811-73d4a7f13e08"
            },
            "outputs": [],
            "execution_count": null
        },
        {
            "cell_type": "markdown",
            "source": [
                "# Correlations"
            ],
            "metadata": {
                "language": "python",
                "azdata_cell_guid": "59d3e250-faf2-4a80-bb0c-1b77509d1a3b"
            },
            "attachments": {}
        },
        {
            "cell_type": "code",
            "source": [
                "numeric_columns = X_train.select_dtypes(include=[np.number])\r\n",
                "\r\n",
                "correlation_matrix_train = numeric_columns.corr()\r\n",
                "\r\n",
                "plt.figure(figsize=(12, 8))\r\n",
                "sns.heatmap(correlation_matrix_train, annot=True, fmt=\".2f\", cmap='coolwarm', square=True, annot_kws={\"color\": \"white\"})\r\n",
                "\r\n",
                "plt.title(\"Correlation Matrix for Training Data\", color=\"white\")\r\n",
                "plt.xlabel(\"Features\", color=\"white\")\r\n",
                "plt.ylabel(\"Features\", color=\"white\")\r\n",
                "\r\n",
                "plt.xticks(color=\"white\")\r\n",
                "plt.yticks(color=\"white\")\r\n",
                "\r\n",
                "plt.show()"
            ],
            "metadata": {
                "language": "python",
                "azdata_cell_guid": "cf9460ea-fbce-45b1-abce-f097a3d468b2"
            },
            "outputs": [],
            "execution_count": null
        },
        {
            "cell_type": "code",
            "source": [
                "scaler = MinMaxScaler()\r\n",
                "\r\n",
                "X_train[\"days_until_delivery\"] = scaler.fit_transform(X_train[[\"days_until_delivery\"]])\r\n",
                "X_val[\"days_until_delivery\"] = scaler.transform(X_val[[\"days_until_delivery\"]])\r\n",
                "X_test[\"days_until_delivery\"] = scaler.transform(X_test[[\"days_until_delivery\"]])"
            ],
            "metadata": {
                "language": "python",
                "azdata_cell_guid": "e2d99d76-e2d0-4a9a-b202-db29a019124b"
            },
            "outputs": [],
            "execution_count": null
        },
        {
            "cell_type": "code",
            "source": [
                "xgb_model = XGBRegressor(objective=\"reg:squarederror\", random_state=42)\r\n",
                "\r\n",
                "param_grid = {\r\n",
                "    \"learning_rate\": [0.01, 0.1],\r\n",
                "    \"n_estimators\": [100, 200],\r\n",
                "    \"max_depth\": [3, 6],\r\n",
                "    \"min_child_weight\": [10, 15],\r\n",
                "    \"subsample\": [0.8, 1.0],\r\n",
                "}\r\n",
                "\r\n",
                "grid_search = GridSearchCV(estimator=xgb_model, param_grid=param_grid,\r\n",
                "                           scoring=\"neg_mean_squared_error\", cv=10, verbose=1)\r\n",
                "\r\n",
                "grid_search.fit(X_train, y_train)\r\n",
                "\r\n",
                "best_params = grid_search.best_params_\r\n",
                "best_score = -grid_search.best_score_\r\n",
                "print(f\"Best Parameters: {best_params}\")\r\n",
                "print(f\"Best CV MSE: {best_score}\")\r\n",
                "\r\n",
                "best_model = XGBRegressor(**best_params, objective=\"reg:squarederror\", random_state=42)\r\n",
                "best_model.fit(X_train, y_train)\r\n",
                "\r\n",
                "y_val_pred = best_model.predict(X_val)\r\n",
                "val_mse = mean_squared_error(y_val, y_val_pred)\r\n",
                "print(f\"Validation MSE: {val_mse}\")\r\n",
                "\r\n",
                "y_test_pred = best_model.predict(X_test)\r\n",
                "test_mse = mean_squared_error(y_test, y_test_pred)\r\n",
                "print(f\"Test MSE: {test_mse}\")\r\n",
                ""
            ],
            "metadata": {
                "language": "python",
                "azdata_cell_guid": "9618e20a-9269-4dfd-ab6e-05e845fa22de"
            },
            "outputs": [],
            "execution_count": null
        },
        {
            "cell_type": "code",
            "source": [
                "best_model.feature_importances_"
            ],
            "metadata": {
                "azdata_cell_guid": "5d4a7665-6d40-40b1-87cf-906faa4ea061",
                "language": "python"
            },
            "outputs": [],
            "execution_count": null
        },
        {
            "cell_type": "code",
            "source": [
                "def manual_prediction(input_data):\r\n",
                "    input_df = pd.DataFrame([input_data])\r\n",
                "    input_df = pd.get_dummies(input_df, drop_first=True)   \r\n",
                "    input_df = input_df.reindex(columns=X_train.columns, fill_value=0)  # Align columns    \r\n",
                "    prediction = best_model.predict(input_df)\r\n",
                "    return prediction[0]\r\n",
                "\r\n",
                "# Example usage:\r\n",
                "input_data = {\r\n",
                "    'days_until_delivery': 1,\r\n",
                "    'day_of_week': 5, 'month': 3, 'is_weekend': True,\r\n",
                "    'same_day_delivery': False\r\n",
                "}\r\n",
                "\r\n",
                "suggested_price = manual_prediction(input_data)\r\n",
                "print(f\"Suggested cost price: {round(suggested_price)}\")"
            ],
            "metadata": {
                "azdata_cell_guid": "af7946c9-7556-49d3-84cc-c69a49447c92",
                "language": "python"
            },
            "outputs": [],
            "execution_count": null
        }
    ]
}
