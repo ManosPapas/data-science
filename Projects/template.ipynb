{
    "metadata": {
        "kernelspec": {
            "name": "python3",
            "display_name": "Python 3",
            "language": "python"
        },
        "language_info": {
            "name": "python",
            "version": "3.8.10",
            "mimetype": "text/x-python",
            "codemirror_mode": {
                "name": "ipython",
                "version": 3
            },
            "pygments_lexer": "ipython3",
            "nbconvert_exporter": "python",
            "file_extension": ".py"
        }
    },
    "nbformat_minor": 2,
    "nbformat": 4,
    "cells": [
        {
            "cell_type": "markdown",
            "source": [
                "# **Use this as a template.**"
            ],
            "metadata": {
                "language": "python",
                "azdata_cell_guid": "5111e65c-e9ce-4da3-a870-b2b4becdc284"
            },
            "attachments": {}
        },
        {
            "cell_type": "code",
            "source": [
                "# Import Core.\r\n",
                "%run \"../Core/main.py\""
            ],
            "metadata": {
                "azdata_cell_guid": "f5b3773e-d6ad-48d9-bce4-5ab88282222c",
                "language": "python"
            },
            "outputs": [],
            "execution_count": 4
        },
        {
            "cell_type": "code",
            "source": [
                "# For documentation use doc_strings(\"name of function\")\r\n",
                "doc_strings(\"NAME_OF_FUNCTION\")"
            ],
            "metadata": {
                "language": "python",
                "azdata_cell_guid": "71df56ba-5529-4b74-a7bf-708904341005"
            },
            "outputs": [],
            "execution_count": null
        },
        {
            "cell_type": "code",
            "source": [
                "# Local variables.\r\n",
                "load_local_data = True\r\n",
                "save_local_data = False\r\n",
                "\r\n",
                "filename = \"FILENAME_YOU_WANT\""
            ],
            "metadata": {
                "language": "python",
                "azdata_cell_guid": "c5b75fc7-aa1c-4bb4-9dd1-ca8d8bb2720e"
            },
            "outputs": [],
            "execution_count": null
        },
        {
            "cell_type": "code",
            "source": [
                "# Change the timeline as you like.\r\n",
                "params = {\r\n",
                "    \"start_at\": \"2024-03-01\", \r\n",
                "    \"end_at\"  : \"2024-08-15\"\r\n",
                "}"
            ],
            "metadata": {
                "language": "python",
                "azdata_cell_guid": "a532a19e-c77d-4377-97ab-2ec772c6c7f3"
            },
            "outputs": [],
            "execution_count": null
        },
        {
            "cell_type": "code",
            "source": [
                "# Load data.\r\n",
                "if load_local_data:\r\n",
                "    df = pd.read_csv(IMPORT_PATH + \"PATH_YOU_WANT\" + filename + \".csv\")\r\n",
                "    \r\n",
                "    # df = CALL_FUCTION FOR EXAMPLE\r\n",
                "\r\n",
                "else:\r\n",
                "    # df = CALL_FUCTION FOR EXAMPLE\r\n",
                "\r\n",
                "    if save_local_data:\r\n",
                "        export_csv(df, filename, IMPORT_PATH + \"PATH_YOU_WANT\")"
            ],
            "metadata": {
                "language": "python",
                "azdata_cell_guid": "76117b7d-a115-4895-ab64-01e6054cdb25"
            },
            "outputs": [],
            "execution_count": null
        },
        {
            "cell_type": "code",
            "source": [
                "print_info(df)\r\n",
                "df.head()"
            ],
            "metadata": {
                "language": "python",
                "azdata_cell_guid": "49f57749-ea3c-4e11-8e77-05c1cb38c83d"
            },
            "outputs": [],
            "execution_count": null
        },
        {
            "cell_type": "markdown",
            "source": [
                "# Clean and transform data."
            ],
            "metadata": {
                "language": "python",
                "azdata_cell_guid": "16f93d65-f4cf-4f09-9bdd-462444fbf114"
            },
            "attachments": {}
        },
        {
            "cell_type": "code",
            "source": [
                ""
            ],
            "metadata": {
                "language": "python",
                "azdata_cell_guid": "f79b7fd9-acbb-4dc3-aa7e-6797f6944a93"
            },
            "outputs": [],
            "execution_count": null
        },
        {
            "cell_type": "markdown",
            "source": [
                "# Statistics"
            ],
            "metadata": {
                "language": "python",
                "azdata_cell_guid": "59d3e250-faf2-4a80-bb0c-1b77509d1a3b"
            },
            "attachments": {}
        },
        {
            "cell_type": "code",
            "source": [
                ""
            ],
            "metadata": {
                "language": "python",
                "azdata_cell_guid": "f3d98a45-6c78-4435-b244-867c6ff1f61f"
            },
            "outputs": [],
            "execution_count": null
        },
        {
            "cell_type": "markdown",
            "source": [
                "# Export"
            ],
            "metadata": {
                "language": "python",
                "azdata_cell_guid": "4cfc13c8-9473-42cd-a80d-74e02184d3a0"
            },
            "attachments": {}
        },
        {
            "cell_type": "code",
            "source": [
                "# Rest of analysis + visualisation will happen in PBI.\r\n",
                "if save_local_data:\r\n",
                "    export_csv(df, filename + \"_BI\", EXPORT_POWERBI_PATH + \"THE_PATH_YOU_WANT\")"
            ],
            "metadata": {
                "language": "python",
                "azdata_cell_guid": "9f46a20c-2c50-46de-afd2-2e5a4d7ba5e3"
            },
            "outputs": [],
            "execution_count": null
        }
    ]
}